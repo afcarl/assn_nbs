{
 "cells": [
  {
   "cell_type": "markdown",
   "metadata": {},
   "source": [
    "## Homework 1"
   ]
  },
  {
   "cell_type": "markdown",
   "metadata": {},
   "source": [
    "Brad Kenstler"
   ]
  },
  {
   "cell_type": "markdown",
   "metadata": {},
   "source": [
    "This is due on Thurs, 6/1"
   ]
  },
  {
   "cell_type": "markdown",
   "metadata": {},
   "source": [
    "1. Consider the polynomial $p(x) = (x-2)^9 = x^9 - 18x^8 + 144x^7 - 672x^6 + 2016x^5 - 4032x^4 + 5376x^3 - 4608x^2 + 2304x - 512$\n",
    "\n",
    "  a. Plot $p(x)$ for $x=1.920,\\,1.921,\\,1.922,\\ldots,2.080$ evaluating $p$ via its coefficients $1,\\,,-18,\\,144,\\ldots$\n",
    "\n",
    "  b. Plot the same plot again, now evaluating $p$ via the expression $(x-2)^9$.\n",
    "\n",
    "  c. Explain the difference.\n",
    "  \n",
    "  *(The numpy method linspace will be useful for this)*"
   ]
  },
  {
   "cell_type": "code",
   "execution_count": 16,
   "metadata": {
    "collapsed": true
   },
   "outputs": [],
   "source": [
    "def p1(x): return x**9 - 18*x**8 + 144*x**7 - 672*x**6\n",
    "+ 2016*x**5-4032*x**4 + 5376*x**3 - 4608*x**2 + 2304*x - 512"
   ]
  },
  {
   "cell_type": "code",
   "execution_count": 15,
   "metadata": {
    "collapsed": true
   },
   "outputs": [],
   "source": [
    "def p2(x): return (x-2)**9"
   ]
  },
  {
   "cell_type": "code",
   "execution_count": 3,
   "metadata": {
    "collapsed": true
   },
   "outputs": [],
   "source": [
    "import numpy as np"
   ]
  },
  {
   "cell_type": "code",
   "execution_count": 5,
   "metadata": {
    "collapsed": true
   },
   "outputs": [],
   "source": [
    "%matplotlib inline"
   ]
  },
  {
   "cell_type": "code",
   "execution_count": 6,
   "metadata": {
    "collapsed": false
   },
   "outputs": [],
   "source": [
    "r = np.linspace(1.920, 2.080, 161)"
   ]
  },
  {
   "cell_type": "code",
   "execution_count": 8,
   "metadata": {
    "collapsed": true
   },
   "outputs": [],
   "source": [
    "from matplotlib import pyplot"
   ]
  },
  {
   "cell_type": "code",
   "execution_count": 24,
   "metadata": {
    "collapsed": false
   },
   "outputs": [
    {
     "data": {
      "text/plain": [
       "[<matplotlib.lines.Line2D at 0x11806cb70>]"
      ]
     },
     "execution_count": 24,
     "metadata": {},
     "output_type": "execute_result"
    },
    {
     "data": {
      "image/png": "[encoded data removed]",
      "text/plain": [
       "<matplotlib.figure.Figure at 0x117f8f278>"
      ]
     },
     "metadata": {},
     "output_type": "display_data"
    }
   ],
   "source": [
    "pyplot.plot(r, [p1(x) for x in r])"
   ]
  },
  {
   "cell_type": "code",
   "execution_count": 20,
   "metadata": {
    "collapsed": false
   },
   "outputs": [
    {
     "data": {
      "text/plain": [
       "[<matplotlib.lines.Line2D at 0x117c98630>]"
      ]
     },
     "execution_count": 20,
     "metadata": {},
     "output_type": "execute_result"
    },
    {
     "data": {
      "image/png": "[encoded data removed]",
      "text/plain": [
       "<matplotlib.figure.Figure at 0x117bb5f98>"
      ]
     },
     "metadata": {},
     "output_type": "display_data"
    }
   ],
   "source": [
    "pyplot.plot(r, [p2(x) for x in r])"
   ]
  },
  {
   "cell_type": "markdown",
   "metadata": {},
   "source": [
    "\n",
    "The first function has alot of noise. This makes sense due to the inexact nature of floating point arithmetic. Specifically, the long form representation of the polynomial has about 45 exponentiations. If we compare this to the 9 exponentiations of the short representation, it makes sense that the long form will introduce a large amount of noise due to the difference between the true value and it's floating point representation being exponentiated 45 times. Meanwhile, this difference is negligible with only 9 exponentiations.\n"
   ]
  },
  {
   "cell_type": "markdown",
   "metadata": {},
   "source": [
    "2\\. How many different double-precision numbers are there?  Express your answer using powers of 2"
   ]
  },
  {
   "cell_type": "markdown",
   "metadata": {},
   "source": [
    "Double precision numbers are 64 bits. Since each bit is binary, there are $2^{64}$ different numbers."
   ]
  },
  {
   "cell_type": "markdown",
   "metadata": {},
   "source": [
    "3\\. Using the updated [Numbers Every Programmer Should Know](https://people.eecs.berkeley.edu/~rcs/research/interactive_latency.html), how much longer does a main memory reference take than an L1 cache look-up?  How much longer does a disk seek take than a main memory reference?"
   ]
  },
  {
   "cell_type": "markdown",
   "metadata": {},
   "source": [
    "A main memory reference lookup takes 100 times longer than an L1 cache reference.\n",
    "\n",
    "A disk seek takes 30,000 times longer than a main memory reference."
   ]
  },
  {
   "cell_type": "markdown",
   "metadata": {},
   "source": [
    "4\\. From the Halide Video, what are 4 ways to traverse a 2d array?"
   ]
  },
  {
   "cell_type": "markdown",
   "metadata": {},
   "source": [
    "* Serial y, Serial x (Scanline Order): This is essentially a nested-loop traversal, where we traverse each y value and traverse each x within it.\n",
    "* Serial x, Serial y (Column major traversal): This is the same as before, only the outer loop is the x values and the inner is the y\n",
    "* Serial y, Vectorize x by 4: Same as Serial y, Serial x, only instead of traversing the x values by a single value at a time, we vectorize and traverse 4 at a time. We could also parralelize each scan line vector across y.\n",
    "* Tiling: We traverse tiles of x and y (such as 4x4), move on to the next tile in the x direction when complete, traverse until finished"
   ]
  },
  {
   "cell_type": "markdown",
   "metadata": {},
   "source": [
    "5\\. Using the animations below ([source](https://www.youtube.com/watch?v=3uiEyEKji0M)), explain what the benefits and pitfalls of each approach. Green squares indicate that a value is being read; red indicates a value is being written. Your answers should be longer in length (give more detail) than just two words.\n",
    "\n",
    "  a. <img src=\"images/Halide1.gif\" alt=\"Halide\" style=\"width: 70%\"/>\n",
    "  \n",
    "  b. <img src=\"images/Halide2.gif\" alt=\"Halide\" style=\"width: 70%\"/>\n",
    "  \n",
    "  c. <img src=\"images/Halide3.gif\" alt=\"Halide\" style=\"width: 70%\"/>"
   ]
  },
  {
   "cell_type": "markdown",
   "metadata": {},
   "source": [
    "Animation A: \n",
    "* Benefits: There are no reduntant computations, the \"All at once, ahead of time Approach\"\n",
    "* Cons: Since the entire x-blur is computed prior to computing the y blur, we are saving this buffer to memory which slows us down significantly.\n",
    "\n",
    "Animation B:\n",
    "* Benefits: The output y-blur is being calculated as we calculate the necessary x-blur: This means we can speed up computation by reading the x-blur data from a local cache and dumping it when we're done.\n",
    "* Cons: There are overlaps of x-blur for calculating different y-blur, and therefore by dumping each x-blur after calculating y-blur we have to make redundant calculations of the same x-blur.\n",
    "\n",
    "Animation C:\n",
    "* Benefits: We've eliminated the redundant calculation by saving some of the necessay x-blur for future y-blur computations. \n",
    "* Cons: In using previous x-blur, we've prevented ourselves from parallelizing (e.g. b/c you can't calculate row 9 unless rows 8 and 7 are done)"
   ]
  },
  {
   "cell_type": "markdown",
   "metadata": {},
   "source": [
    "6\\. Prove that if $A = Q B Q^T$ for some orthnogonal matrix $Q$, the $A$ and $B$ have the same singular values."
   ]
  },
  {
   "cell_type": "markdown",
   "metadata": {},
   "source": [
    "PROOF:\n",
    "\n",
    "Let $A=QBQ^{T}$ for some orthogonal matrix $Q$.\n",
    "\n",
    "Then $A=QBQ^{T}=U\\Sigma V^{T}$ by SVD, where $U$ and $V^{T}$ are orthogonal.\n",
    "\n",
    "Recall that by the defition of an orthogonal matrix, $QQ^{T}=I$.\n",
    "\n",
    "Then $Q^{T}QBQ^{T}Q = B = Q^{T}U\\Sigma V^{T}Q$. \n",
    "\n",
    "The product of two orthogonal matrices is itself orthogonal, and therefore $B=(Q^{T}U)\\Sigma (V^{T}Q)=U^{\\prime}\\Sigma (V^{\\prime})^{T}$, where $U^{\\prime}$ and $(V^{\\prime})^{T}$ are both orthogonal. Then this is simply the SVD for $B$.\n",
    "\n",
    "Therefore, both $A$ and $B$ share the same singular value matrix $\\Sigma$ and as a consequence, have the same singular values.\n",
    "\n",
    "$QED$"
   ]
  },
  {
   "cell_type": "markdown",
   "metadata": {},
   "source": [
    "7\\. What is the *stochastic* part of *stochastic gradient descent*?"
   ]
  },
  {
   "cell_type": "markdown",
   "metadata": {},
   "source": [
    "The stochastic part of stochastic gradient descent refers to the stochastic approximation of the loss function surface which we seek to minimize.\n",
    "\n",
    "Regular gradient descent updates parameters after evaluating the gradient on the loss function surface defined over all data observations (this is the true loss function surface).\n",
    "\n",
    "By updating parameters on randomly selected single observations, or more often randomly selected subsets, we calculate the gradient on a random approximation of the true loss function surface. "
   ]
  }
 ],
 "metadata": {
  "kernelspec": {
   "display_name": "Python 3",
   "language": "python",
   "name": "python3"
  },
  "language_info": {
   "codemirror_mode": {
    "name": "ipython",
    "version": 3
   },
   "file_extension": ".py",
   "mimetype": "text/x-python",
   "name": "python",
   "nbconvert_exporter": "python",
   "pygments_lexer": "ipython3",
   "version": "3.6.0"
  }
 },
 "nbformat": 4,
 "nbformat_minor": 2
}
